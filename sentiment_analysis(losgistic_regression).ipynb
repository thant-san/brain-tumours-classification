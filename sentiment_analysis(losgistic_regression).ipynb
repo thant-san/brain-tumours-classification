{
  "nbformat": 4,
  "nbformat_minor": 0,
  "metadata": {
    "colab": {
      "provenance": [],
      "gpuType": "T4",
      "authorship_tag": "ABX9TyPHRMC2omT6GOPeg0TIV90p",
      "include_colab_link": true
    },
    "kernelspec": {
      "name": "python3",
      "display_name": "Python 3"
    },
    "language_info": {
      "name": "python"
    },
    "accelerator": "GPU"
  },
  "cells": [
    {
      "cell_type": "markdown",
      "metadata": {
        "id": "view-in-github",
        "colab_type": "text"
      },
      "source": [
        "<a href=\"https://colab.research.google.com/github/thant-san/brain-tumours-classification/blob/main/sentiment_analysis(losgistic_regression).ipynb\" target=\"_parent\"><img src=\"https://colab.research.google.com/assets/colab-badge.svg\" alt=\"Open In Colab\"/></a>"
      ]
    },
    {
      "cell_type": "code",
      "source": [
        "!kaggle datasets download -d jp797498e/twitter-entity-sentiment-analysis"
      ],
      "metadata": {
        "colab": {
          "base_uri": "https://localhost:8080/"
        },
        "id": "-CSFrRqDJTBE",
        "outputId": "076d6147-56ce-42c5-920e-406b5b4bf650"
      },
      "execution_count": 2,
      "outputs": [
        {
          "output_type": "stream",
          "name": "stdout",
          "text": [
            "Dataset URL: https://www.kaggle.com/datasets/jp797498e/twitter-entity-sentiment-analysis\n",
            "License(s): CC0-1.0\n",
            "Downloading twitter-entity-sentiment-analysis.zip to /content\n",
            "  0% 0.00/1.99M [00:00<?, ?B/s]\n",
            "100% 1.99M/1.99M [00:00<00:00, 80.2MB/s]\n"
          ]
        }
      ]
    },
    {
      "cell_type": "code",
      "source": [
        "!unzip twitter-entity-sentiment-analysis.zip -d dataset/"
      ],
      "metadata": {
        "colab": {
          "base_uri": "https://localhost:8080/"
        },
        "id": "Wc6LVYBQJWVa",
        "outputId": "f396d908-74e4-43c6-a116-c2a3658c0b38"
      },
      "execution_count": 3,
      "outputs": [
        {
          "output_type": "stream",
          "name": "stdout",
          "text": [
            "Archive:  twitter-entity-sentiment-analysis.zip\n",
            "  inflating: dataset/twitter_training.csv  \n",
            "  inflating: dataset/twitter_validation.csv  \n"
          ]
        }
      ]
    },
    {
      "cell_type": "code",
      "execution_count": 1,
      "metadata": {
        "id": "2pLCHJJKJCEL"
      },
      "outputs": [],
      "source": [
        "import pandas as pd\n",
        "import numpy as np\n",
        "import matplotlib.pyplot as plt\n",
        "import seaborn as sns\n",
        "from sklearn.model_selection import train_test_split\n",
        "from sklearn.feature_extraction.text import TfidfVectorizer\n",
        "from sklearn.linear_model import LogisticRegression\n",
        "from sklearn.metrics import accuracy_score, classification_report, confusion_matrix\n",
        "from sklearn.model_selection import GridSearchCV"
      ]
    },
    {
      "cell_type": "code",
      "source": [
        "# Load dataset\n",
        "train_df = pd.read_csv('/content/dataset/twitter_training.csv')\n",
        "# Assign meaningful column names\n",
        "train_df.columns = ['ID', 'Entity', 'Sentiment', 'Message']\n",
        "\n",
        "# Display basic dataset info\n",
        "print(\"Dataset Info:\")\n",
        "print(train_df.info())\n",
        "\n",
        "# View the first few records\n",
        "print(\"\\nSample Data:\")\n",
        "print(train_df.head())\n",
        "\n",
        "# Check for missing values\n",
        "print(\"\\nMissing Values:\")\n",
        "print(train_df.isnull().sum())"
      ],
      "metadata": {
        "colab": {
          "base_uri": "https://localhost:8080/"
        },
        "id": "x3LgUi2jJMst",
        "outputId": "3f961ebd-8c4a-4711-a495-b93ea775751a"
      },
      "execution_count": 4,
      "outputs": [
        {
          "output_type": "stream",
          "name": "stdout",
          "text": [
            "Dataset Info:\n",
            "<class 'pandas.core.frame.DataFrame'>\n",
            "RangeIndex: 74681 entries, 0 to 74680\n",
            "Data columns (total 4 columns):\n",
            " #   Column     Non-Null Count  Dtype \n",
            "---  ------     --------------  ----- \n",
            " 0   ID         74681 non-null  int64 \n",
            " 1   Entity     74681 non-null  object\n",
            " 2   Sentiment  74681 non-null  object\n",
            " 3   Message    73995 non-null  object\n",
            "dtypes: int64(1), object(3)\n",
            "memory usage: 2.3+ MB\n",
            "None\n",
            "\n",
            "Sample Data:\n",
            "     ID       Entity Sentiment  \\\n",
            "0  2401  Borderlands  Positive   \n",
            "1  2401  Borderlands  Positive   \n",
            "2  2401  Borderlands  Positive   \n",
            "3  2401  Borderlands  Positive   \n",
            "4  2401  Borderlands  Positive   \n",
            "\n",
            "                                             Message  \n",
            "0  I am coming to the borders and I will kill you...  \n",
            "1  im getting on borderlands and i will kill you ...  \n",
            "2  im coming on borderlands and i will murder you...  \n",
            "3  im getting on borderlands 2 and i will murder ...  \n",
            "4  im getting into borderlands and i can murder y...  \n",
            "\n",
            "Missing Values:\n",
            "ID             0\n",
            "Entity         0\n",
            "Sentiment      0\n",
            "Message      686\n",
            "dtype: int64\n"
          ]
        }
      ]
    },
    {
      "cell_type": "code",
      "source": [
        "import re\n",
        "\n",
        "# Define text cleaning function\n",
        "def clean_text(text):\n",
        "    text = re.sub(r'http\\S+', '', text)  # Remove URLs\n",
        "    text = re.sub(r'@\\w+', '', text)  # Remove mentions\n",
        "    text = re.sub(r'[^A-Za-z0-9 ]+', '', text)  # Remove special characters\n",
        "    text = text.lower().strip()  # Convert to lowercase\n",
        "    return text\n",
        "\n",
        "# Apply cleaning\n",
        "train_df['Message'] = train_df['Message'].astype(str).apply(clean_text)\n",
        "\n",
        "# Remove missing sentiment values\n",
        "train_df.dropna(subset=['Sentiment'], inplace=True)\n",
        "\n",
        "# Convert sentiment labels to numerical values\n",
        "sentiment_mapping = {'Positive': 1, 'Negative': 0, 'Neutral': 2}\n",
        "train_df['Sentiment'] = train_df['Sentiment'].map(sentiment_mapping)\n",
        "\n",
        "# Remove any remaining NaN values after mapping\n",
        "train_df.dropna(subset=['Sentiment'], inplace=True)\n",
        "\n",
        "# Convert Sentiment to integer\n",
        "train_df['Sentiment'] = train_df['Sentiment'].astype(int)\n",
        "\n",
        "# Check unique sentiment values\n",
        "print(\"\\nUnique sentiment values after encoding:\", train_df['Sentiment'].unique())"
      ],
      "metadata": {
        "colab": {
          "base_uri": "https://localhost:8080/"
        },
        "id": "8q6vEZzuJnBL",
        "outputId": "f34f37ac-b7df-4dfc-e79d-d0e340727320"
      },
      "execution_count": 5,
      "outputs": [
        {
          "output_type": "stream",
          "name": "stdout",
          "text": [
            "\n",
            "Unique sentiment values after encoding: [1 2 0]\n"
          ]
        }
      ]
    },
    {
      "cell_type": "code",
      "source": [
        "# Convert text messages to numerical features using TF-IDF\n",
        "vectorizer = TfidfVectorizer(max_features=15000, stop_words='english', ngram_range=(1,2))\n",
        "X = vectorizer.fit_transform(train_df['Message'])\n",
        "y = train_df['Sentiment']\n",
        "\n",
        "print(\"Shape of feature matrix:\", X.shape)"
      ],
      "metadata": {
        "colab": {
          "base_uri": "https://localhost:8080/"
        },
        "id": "YysfER46Ju1S",
        "outputId": "ef388b11-96ef-4e84-d438-ec85b5e6afb8"
      },
      "execution_count": 6,
      "outputs": [
        {
          "output_type": "stream",
          "name": "stdout",
          "text": [
            "Shape of feature matrix: (61691, 15000)\n"
          ]
        }
      ]
    },
    {
      "cell_type": "code",
      "source": [
        "X_train, X_test, y_train, y_test = train_test_split(X, y, test_size=0.2, random_state=42)\n",
        "\n",
        "# Print dataset sizes\n",
        "print(\"Training set size:\", X_train.shape)\n",
        "print(\"Testing set size:\", X_test.shape)"
      ],
      "metadata": {
        "colab": {
          "base_uri": "https://localhost:8080/"
        },
        "id": "4lZvb5IWJxxQ",
        "outputId": "d24e58b2-fb93-422f-fa99-f2d12662e723"
      },
      "execution_count": 7,
      "outputs": [
        {
          "output_type": "stream",
          "name": "stdout",
          "text": [
            "Training set size: (49352, 15000)\n",
            "Testing set size: (12339, 15000)\n"
          ]
        }
      ]
    },
    {
      "cell_type": "code",
      "source": [
        "# Define Logistic Regression model\n",
        "model = LogisticRegression(max_iter=2000)\n",
        "\n",
        "# Define parameter grid for tuning\n",
        "parameters = {'C': [0.01, 0.1, 1, 10, 50, 100]}\n",
        "\n",
        "# Perform Grid Search to find best hyperparameters\n",
        "grid_search = GridSearchCV(model, parameters, cv=5, scoring='accuracy')\n",
        "grid_search.fit(X_train, y_train)\n",
        "\n",
        "# Get best parameter\n",
        "best_param = grid_search.best_params_\n",
        "print(\"Best Parameters:\", best_param)\n",
        "\n",
        "# Train final model using best parameter\n",
        "best_model = LogisticRegression(C=best_param['C'], max_iter=2000)\n",
        "best_model.fit(X_train, y_train)\n",
        "\n",
        "# Make predictions on test data\n",
        "y_pred = best_model.predict(X_test)"
      ],
      "metadata": {
        "colab": {
          "base_uri": "https://localhost:8080/"
        },
        "id": "2dno9bmEJ1ep",
        "outputId": "64eaa26e-20b1-434a-869c-6b52fb708c05"
      },
      "execution_count": 10,
      "outputs": [
        {
          "output_type": "stream",
          "name": "stdout",
          "text": [
            "Best Parameters: {'C': 10}\n"
          ]
        }
      ]
    },
    {
      "cell_type": "code",
      "source": [
        "# Evaluate accuracy\n",
        "accuracy = accuracy_score(y_test, y_pred)\n",
        "print(\"Model Accuracy:\", accuracy)\n",
        "\n",
        "# Print classification report\n",
        "print(\"Classification Report:\\n\", classification_report(y_test, y_pred))"
      ],
      "metadata": {
        "colab": {
          "base_uri": "https://localhost:8080/"
        },
        "id": "OSxyI5HyKBCw",
        "outputId": "bc223da5-518d-4802-a4d8-c569c2c0fa86"
      },
      "execution_count": 12,
      "outputs": [
        {
          "output_type": "stream",
          "name": "stdout",
          "text": [
            "Model Accuracy: 0.8555798687089715\n",
            "Classification Report:\n",
            "               precision    recall  f1-score   support\n",
            "\n",
            "           0       0.84      0.89      0.87      4492\n",
            "           1       0.88      0.85      0.86      4169\n",
            "           2       0.85      0.82      0.83      3678\n",
            "\n",
            "    accuracy                           0.86     12339\n",
            "   macro avg       0.86      0.85      0.85     12339\n",
            "weighted avg       0.86      0.86      0.86     12339\n",
            "\n"
          ]
        }
      ]
    },
    {
      "cell_type": "code",
      "source": [
        "# Create and visualize confusion matrix\n",
        "cm = confusion_matrix(y_test, y_pred)\n",
        "\n",
        "# Plot confusion matrix using seaborn\n",
        "plt.figure(figsize=(6,4))\n",
        "sns.heatmap(cm, annot=True, fmt='d', cmap='Blues', xticklabels=['Negative', 'Positive', 'Neutral'], yticklabels=['Negative', 'Positive', 'Neutral'])\n",
        "plt.title('Confusion Matrix')\n",
        "plt.xlabel('Predicted')\n",
        "plt.ylabel('Actual')\n",
        "plt.show()"
      ],
      "metadata": {
        "colab": {
          "base_uri": "https://localhost:8080/",
          "height": 410
        },
        "id": "q-PODNTpKFzm",
        "outputId": "2e3e8bde-0e79-4694-fda0-783a8be83af6"
      },
      "execution_count": 13,
      "outputs": [
        {
          "output_type": "display_data",
          "data": {
            "text/plain": [
              "<Figure size 600x400 with 2 Axes>"
            ],
            "image/png": "[encoded data removed]"
          },
          "metadata": {}
        }
      ]
    },
    {
      "cell_type": "code",
      "source": [
        "import joblib\n",
        "\n",
        "# Save the trained model and vectorizer for future use\n",
        "joblib.dump(best_model, 'sentiment_model.pkl')\n",
        "joblib.dump(vectorizer, 'tfidf_vectorizer.pkl')\n",
        "\n",
        "print(\"Model and vectorizer saved successfully.\")"
      ],
      "metadata": {
        "colab": {
          "base_uri": "https://localhost:8080/"
        },
        "id": "JWicM4GSKGhK",
        "outputId": "a6218548-da1c-4894-d60d-c82697fde510"
      },
      "execution_count": 14,
      "outputs": [
        {
          "output_type": "stream",
          "name": "stdout",
          "text": [
            "Model and vectorizer saved successfully.\n"
          ]
        }
      ]
    },
    {
      "cell_type": "code",
      "source": [
        "def predict_sentiment(message):\n",
        "    message_cleaned = clean_text(message)\n",
        "    message_vectorized = vectorizer.transform([message_cleaned])\n",
        "    prediction = best_model.predict(message_vectorized)\n",
        "\n",
        "    sentiment_label = {0: 'Negative', 1: 'Positive', 2: 'Neutral'}\n",
        "    return sentiment_label[prediction[0]]\n",
        "\n",
        "# Test the function\n",
        "new_message = \"I love this product! It's amazing.\"\n",
        "print(\"Predicted Sentiment:\", predict_sentiment(new_message))"
      ],
      "metadata": {
        "colab": {
          "base_uri": "https://localhost:8080/"
        },
        "id": "sQp8I3HlKMIU",
        "outputId": "4660ccda-3dc4-4920-e3e0-a4f177b5cc89"
      },
      "execution_count": 15,
      "outputs": [
        {
          "output_type": "stream",
          "name": "stdout",
          "text": [
            "Predicted Sentiment: Positive\n"
          ]
        }
      ]
    }
  ]
}